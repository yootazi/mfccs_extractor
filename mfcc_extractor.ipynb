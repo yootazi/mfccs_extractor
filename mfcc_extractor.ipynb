{
  "nbformat": 4,
  "nbformat_minor": 0,
  "metadata": {
    "kernelspec": {
      "display_name": "Python 3",
      "language": "python",
      "name": "python3"
    },
    "language_info": {
      "codemirror_mode": {
        "name": "ipython",
        "version": 3
      },
      "file_extension": ".py",
      "mimetype": "text/x-python",
      "name": "python",
      "nbconvert_exporter": "python",
      "pygments_lexer": "ipython3",
      "version": "3.6.9"
    },
    "colab": {
      "name": "mfcc_extractor.ipynb",
      "provenance": [],
      "toc_visible": true,
      "include_colab_link": true
    }
  },
  "cells": [
    {
      "cell_type": "markdown",
      "metadata": {
        "id": "view-in-github",
        "colab_type": "text"
      },
      "source": [
        "<a href=\"https://colab.research.google.com/github/yootazi/mfccs_extractor/blob/main/mfcc_extractor.ipynb\" target=\"_parent\"><img src=\"https://colab.research.google.com/assets/colab-badge.svg\" alt=\"Open In Colab\"/></a>"
      ]
    },
    {
      "cell_type": "markdown",
      "metadata": {
        "id": "0JIq89FjOKAU"
      },
      "source": [
        "## **MFCC Extractor**\n",
        "# Extracting MFCCs from an Audio Dataset located in Google Drive\n",
        "\n",
        "---\n",
        "\n",
        " by Yalda Zamani, 2021\n",
        "> Website: [www.yaldazamani.com](https://www.yaldazamani.com)\n",
        "\n",
        "> Twitter: [@yootazi](https://twitter.com/yootazi)\n",
        "\n",
        "\n",
        "> \n",
        "\n",
        "\n",
        "Currently it can be extract MFCCs (Mel-frequency cepstrum) from any dataset of .wav audio files at 44.1khz Sample Rate and 16bit bitdepth.\n",
        "\n",
        "> Credits:\n",
        "* coded following 'The Sound of AI' Youtube tutorial series by Valerio Velardo"
      ]
    },
    {
      "cell_type": "markdown",
      "metadata": {
        "id": "AIu4FUXiOX3f"
      },
      "source": [
        "Create a folder in your Google Drive called ai_music_projects. Create another folder within ai_music_projects called MFCC_Extractor. Create two empty folder 'audio' and 'mfcc' within MFCC_Extractor to store your audio files and retrieve MFCCs.\n",
        "\n",
        "Make sure the path pointing to your folder look like these:\n",
        "\n",
        "'/content/gdrive/MyDrive/ai_music_projects/MFCC_Extractor/audio'\n",
        "'/content/gdrive/MyDrive/ai_music_projects/MFCC_Extractor/mfcc'\n",
        "\n",
        "\n",
        "Move your audio files into the 'audio' folder."
      ]
    },
    {
      "cell_type": "code",
      "metadata": {
        "cellView": "form",
        "id": "UzyGxA3J_GPK"
      },
      "source": [
        "#@title **Importing Libraries**\n",
        "\n",
        "import librosa\n",
        "import librosa.display\n",
        "import IPython.display as ipd\n",
        "import matplotlib.pyplot as plt\n",
        "import numpy as np"
      ],
      "execution_count": 1,
      "outputs": []
    },
    {
      "cell_type": "code",
      "metadata": {
        "cellView": "form",
        "id": "zmWFpeZQ_HLs"
      },
      "source": [
        "#@title **Mounting Google Drive**\n",
        "\n",
        "from google.colab import drive\n",
        "drive.mount('/content/gdrive/')"
      ],
      "execution_count": null,
      "outputs": []
    },
    {
      "cell_type": "code",
      "metadata": {
        "cellView": "form",
        "id": "QpAdIn12_GPO"
      },
      "source": [
        "#@title **Loading Audio Files from Google Drive**\n",
        "\n",
        "audio_file = \"/content/gdrive/MyDrive/ai_music_projects/MFCC_Extractor/audio/debussy.wav\"\n",
        "ipd.Audio(audio_file)\n",
        "\n",
        "# load audio files with librosa\n",
        "signal, sr = librosa.load(audio_file)\n"
      ],
      "execution_count": 7,
      "outputs": []
    },
    {
      "cell_type": "code",
      "metadata": {
        "cellView": "form",
        "id": "_sMd0ZIq_GPS"
      },
      "source": [
        "#@title **Visualising MFCCs**\n",
        "\n",
        "mfccs = librosa.feature.mfcc(y=signal, n_mfcc=13, sr=sr)\n",
        "mfccs.shape\n",
        "\n",
        "plt.figure(figsize=(25, 10))\n",
        "librosa.display.specshow(mfccs, \n",
        "                         x_axis=\"time\", \n",
        "                         sr=sr)\n",
        "plt.colorbar(format=\"%+2.f\")\n",
        "plt.show()"
      ],
      "execution_count": null,
      "outputs": []
    },
    {
      "cell_type": "code",
      "metadata": {
        "cellView": "form",
        "id": "9Qe_E5Np_GPU"
      },
      "source": [
        "#@title **First MFCCs derivative**\n",
        "\n",
        "delta_mfccs = librosa.feature.delta(mfccs)\n",
        "delta_mfccs.shape\n",
        "\n",
        "plt.figure(figsize=(25, 10))\n",
        "librosa.display.specshow(delta_mfccs, \n",
        "                         x_axis=\"time\", \n",
        "                         sr=sr)\n",
        "plt.colorbar(format=\"%+2.f\")\n",
        "plt.show()"
      ],
      "execution_count": null,
      "outputs": []
    },
    {
      "cell_type": "code",
      "metadata": {
        "cellView": "form",
        "id": "zufEebnb_GPV"
      },
      "source": [
        "#@title **Second MFCCs derivative**\n",
        "\n",
        "delta2_mfccs = librosa.feature.delta(mfccs, order=2)\n",
        "delta_mfccs.shape\n",
        "\n",
        "plt.figure(figsize=(25, 10))\n",
        "librosa.display.specshow(delta2_mfccs, \n",
        "                         x_axis=\"time\", \n",
        "                         sr=sr)\n",
        "plt.colorbar(format=\"%+2.f\")\n",
        "plt.show()"
      ],
      "execution_count": null,
      "outputs": []
    },
    {
      "cell_type": "code",
      "metadata": {
        "cellView": "form",
        "id": "IzVxCJfr_GPV"
      },
      "source": [
        "#@title **Concatenating First and Second Derivatives**\n",
        "\n",
        "mfccs_features = np.concatenate((mfccs, delta_mfccs, delta2_mfccs))\n",
        "mfccs_features.shape"
      ],
      "execution_count": 19,
      "outputs": []
    },
    {
      "cell_type": "code",
      "metadata": {
        "cellView": "form",
        "id": "svmogM6JocdV"
      },
      "source": [
        "#@title **Create MFCCs from All the Audio Files Located in 'audio' Folder**\n"
      ],
      "execution_count": null,
      "outputs": []
    }
  ]
}